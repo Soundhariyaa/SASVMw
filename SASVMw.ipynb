{
  "nbformat": 4,
  "nbformat_minor": 0,
  "metadata": {
    "colab": {
      "name": "SASVMw.ipynb",
      "provenance": [],
      "collapsed_sections": []
    },
    "kernelspec": {
      "name": "python3",
      "display_name": "Python 3"
    },
    "accelerator": "GPU"
  },
  "cells": [
    {
      "cell_type": "markdown",
      "metadata": {
        "id": "ORW64pwYDf05"
      },
      "source": [
        "Loading and Summarization of existing dataset [ to know the majority and minority class that could be used in oversampling or undersampling ]"
      ]
    },
    {
      "cell_type": "code",
      "metadata": {
        "colab": {
          "base_uri": "https://localhost:8080/"
        },
        "id": "orBe_KKlDBJS",
        "outputId": "1dff2495-8a50-4624-f7df-393c34b44a57"
      },
      "source": [
        "# load and summarize the dataset\r\n",
        "from pandas import read_csv\r\n",
        "from pandas import set_option\r\n",
        "from collections import Counter\r\n",
        "# define the dataset location\r\n",
        "filename = 'training.csv'\r\n",
        "# load the csv file as a data frame\r\n",
        "dataframe = read_csv(filename, header=None,engine=None)\r\n",
        "# summarize the shape of the dataset\r\n",
        "print(dataframe.shape)\r\n",
        "# describe the dataset\r\n",
        "set_option('precision', 3)\r\n",
        "print(dataframe.describe())\r\n",
        "# summarize the class distribution\r\n",
        "target = dataframe.values[:,-1]\r\n",
        "counter = Counter(target)\r\n",
        "for k,v in counter.items():\r\n",
        "\tper = v / len(target) * 100\r\n",
        "\tprint('Class=%s, Count=%d, Percentage=%.3f%%' % (k, v, per))"
      ],
      "execution_count": null,
      "outputs": [
        {
          "output_type": "stream",
          "text": [
            "(2053175, 43)\n",
            "              3          4          5   ...         39         40         41\n",
            "count  2.053e+06  2.053e+06  2.053e+06  ...  2.053e+06  2.053e+06  2.053e+06\n",
            "mean   2.192e+03  6.603e+02  8.358e-04  ...  3.324e+02  1.719e-01  0.000e+00\n",
            "std    1.045e+06  1.719e+04  2.890e-02  ...  2.123e+02  3.770e-01  0.000e+00\n",
            "min    0.000e+00  0.000e+00  0.000e+00  ...  0.000e+00  0.000e+00  0.000e+00\n",
            "25%    4.400e+01  0.000e+00  0.000e+00  ...  1.200e+02  0.000e+00  0.000e+00\n",
            "50%    5.200e+02  0.000e+00  0.000e+00  ...  5.100e+02  0.000e+00  0.000e+00\n",
            "75%    1.032e+03  0.000e+00  0.000e+00  ...  5.110e+02  0.000e+00  0.000e+00\n",
            "max    1.168e+09  7.069e+06  1.000e+00  ...  5.110e+02  1.000e+00  0.000e+00\n",
            "\n",
            "[8 rows x 39 columns]\n",
            "Class=class10, Count=449447, Percentage=21.890%\n",
            "Class=normal, Count=407746, Percentage=19.859%\n",
            "Class=class18, Count=1176816, Percentage=57.317%\n",
            "Class=class15, Count=4349, Percentage=0.212%\n",
            "Class=class06, Count=5302, Percentage=0.258%\n",
            "Class=class17, Count=6613, Percentage=0.322%\n",
            "Class=class01, Count=925, Percentage=0.045%\n",
            "Class=class11, Count=966, Percentage=0.047%\n",
            "Class=class21, Count=445, Percentage=0.022%\n",
            "Class=class19, Count=1, Percentage=0.000%\n",
            "Class=class20, Count=375, Percentage=0.018%\n",
            "Class=class14, Count=120, Percentage=0.006%\n",
            "Class=class03, Count=4, Percentage=0.000%\n",
            "Class=class04, Count=19, Percentage=0.001%\n",
            "Class=class05, Count=7, Percentage=0.000%\n",
            "Class=class12, Count=1, Percentage=0.000%\n",
            "Class=class22, Count=7, Percentage=0.000%\n",
            "Class=class07, Count=9, Percentage=0.000%\n",
            "Class=class16, Count=2, Percentage=0.000%\n",
            "Class=class13, Count=1, Percentage=0.000%\n",
            "Class=class02, Count=12, Percentage=0.001%\n",
            "Class=class08, Count=5, Percentage=0.000%\n",
            "Class=class09, Count=2, Percentage=0.000%\n",
            "Class=nan, Count=1, Percentage=0.000%\n"
          ],
          "name": "stdout"
        }
      ]
    },
    {
      "cell_type": "code",
      "metadata": {
        "colab": {
          "base_uri": "https://localhost:8080/",
          "height": 281
        },
        "id": "YJ2z2mBdEBpj",
        "outputId": "0667cc6b-3e63-442c-a7ad-d172116829d3"
      },
      "source": [
        "from matplotlib import pyplot\r\n",
        "# create a histogram plot of each variable\r\n",
        "dataframe.hist(bins=25)\r\n",
        "# show the plot\r\n",
        "pyplot.show()"
      ],
      "execution_count": null,
      "outputs": [
        {
          "output_type": "display_data",
          "data": {
            "image/png": "[encoded data removed]",
            "text/plain": [
              "<Figure size 432x288 with 42 Axes>"
            ]
          },
          "metadata": {
            "tags": [],
            "needs_background": "light"
          }
        }
      ]
    },
    {
      "cell_type": "code",
      "metadata": {
        "id": "N05CMqRLFXfn"
      },
      "source": [
        "# baseline model and test harness for the ecoli dataset\r\n",
        "from collections import Counter\r\n",
        "from numpy import mean\r\n",
        "from numpy import std\r\n",
        "from pandas import read_csv\r\n",
        "from sklearn.preprocessing import LabelEncoder\r\n",
        "from sklearn.model_selection import cross_val_score\r\n",
        "from sklearn.model_selection import RepeatedStratifiedKFold\r\n",
        "from sklearn.dummy import DummyClassifier\r\n",
        "\r\n",
        "# load the dataset as a numpy array\r\n",
        "data = read_csv('training.csv', header=None)\r\n",
        "# retrieve numpy array\r\n",
        "data = data.values\r\n",
        "# split into input and output elements\r\n",
        "X, y = data[:, :-1], data[:, -1]"
      ],
      "execution_count": null,
      "outputs": []
    },
    {
      "cell_type": "code",
      "metadata": {
        "id": "fXGuKodkKwxZ",
        "colab": {
          "base_uri": "https://localhost:8080/"
        },
        "outputId": "71796227-d184-47a3-852f-fdfa8d519c34"
      },
      "source": [
        "print(data)"
      ],
      "execution_count": null,
      "outputs": [
        {
          "output_type": "stream",
          "text": [
            "[['TCP' 'PRIVATE' 'STAT02' ... 0.0 0.0 'class10']\n",
            " ['TCP' 'HTTP' 'STAT10' ... 0.0 0.0 'normal']\n",
            " ['ICMP' 'ECR_I' 'STAT10' ... 0.0 0.0 'class18']\n",
            " ...\n",
            " ['TCP' 'HTTP' 'STAT10' ... 0.01 0.0 'normal']\n",
            " ['ICMP' 'ECR_I' 'STAT10' ... 0.0 0.0 'class18']\n",
            " ['TCP' 'PRIVATE' 'STAT06' ... nan nan nan]]\n"
          ],
          "name": "stdout"
        }
      ]
    },
    {
      "cell_type": "code",
      "metadata": {
        "colab": {
          "base_uri": "https://localhost:8080/"
        },
        "id": "tM4IwzqNFmfF",
        "outputId": "2a2a0ef2-55fa-4591-adbd-9e6f8c5d20ce"
      },
      "source": [
        "print(y)"
      ],
      "execution_count": null,
      "outputs": [
        {
          "output_type": "stream",
          "text": [
            "['class10' 'normal' 'class18' ... 'normal' 'class18' nan]\n"
          ],
          "name": "stdout"
        }
      ]
    },
    {
      "cell_type": "code",
      "metadata": {
        "id": "gVj22P3pGwiX"
      },
      "source": [
        "y=y[:-1]"
      ],
      "execution_count": null,
      "outputs": []
    },
    {
      "cell_type": "code",
      "metadata": {
        "colab": {
          "base_uri": "https://localhost:8080/"
        },
        "id": "wXkHJoK9Gz6F",
        "outputId": "1aa871b0-dc58-410e-bd4a-c3814810aec5"
      },
      "source": [
        "print(y)"
      ],
      "execution_count": null,
      "outputs": [
        {
          "output_type": "stream",
          "text": [
            "['class10' 'normal' 'class18' ... 'normal' 'normal' 'class18']\n"
          ],
          "name": "stdout"
        }
      ]
    },
    {
      "cell_type": "code",
      "metadata": {
        "id": "1A0urQ3NFwWS"
      },
      "source": [
        "\ty = LabelEncoder().fit_transform(y)"
      ],
      "execution_count": null,
      "outputs": []
    },
    {
      "cell_type": "code",
      "metadata": {
        "id": "9cKC_d1cFwPl"
      },
      "source": [
        ""
      ],
      "execution_count": null,
      "outputs": []
    },
    {
      "cell_type": "code",
      "metadata": {
        "colab": {
          "base_uri": "https://localhost:8080/",
          "height": 467
        },
        "id": "ZCJBProOE6F1",
        "outputId": "7198069f-a5aa-4a6a-f011-ac022bff97a0"
      },
      "source": [
        "# baseline model and test harness for the ecoli dataset\r\n",
        "from collections import Counter\r\n",
        "from numpy import mean\r\n",
        "from numpy import std\r\n",
        "from pandas import read_csv\r\n",
        "from sklearn.preprocessing import LabelEncoder\r\n",
        "from sklearn.model_selection import cross_val_score\r\n",
        "from sklearn.model_selection import RepeatedStratifiedKFold\r\n",
        "from sklearn.dummy import DummyClassifier\r\n",
        "\r\n",
        "# load the dataset\r\n",
        "def load_dataset(full_path):\r\n",
        "\t# load the dataset as a numpy array\r\n",
        "\tdata = read_csv(full_path, header=None)\r\n",
        "\t# retrieve numpy array\r\n",
        "\tdata = data.values\r\n",
        "\t# split into input and output elements\r\n",
        "\tX, y = data[:, :-1], data[:, -1]\r\n",
        "\t# label encode the target variable to have the classes 0 and 1  \r\n",
        "\ty = LabelEncoder().fit_transform(y)\r\n",
        "\treturn X, y\r\n",
        "\r\n",
        "# evaluate a model\r\n",
        "def evaluate_model(X, y, model):\r\n",
        "\t# define evaluation procedure\r\n",
        "\tcv = RepeatedStratifiedKFold(n_splits=5, n_repeats=3, random_state=1)\r\n",
        "\t# evaluate model\r\n",
        "\tscores = cross_val_score(model, X, y, scoring='accuracy', cv=cv, n_jobs=-1)\r\n",
        "\treturn scores\r\n",
        "\r\n",
        "# define the location of the dataset\r\n",
        "full_path = 'training.csv'\r\n",
        "# load the dataset\r\n",
        "X, y = load_dataset(full_path)\r\n",
        "# summarize the loaded dataset\r\n",
        "print(X.shape, y.shape, Counter(y))\r\n",
        "# define the reference model\r\n",
        "model = DummyClassifier(strategy='most_frequent')\r\n",
        "# evaluate the model\r\n",
        "scores = evaluate_model(X, y, model)\r\n",
        "# summarize performance\r\n",
        "print('Mean Accuracy: %.3f (%.3f)' % (mean(scores), std(scores)))"
      ],
      "execution_count": null,
      "outputs": [
        {
          "output_type": "error",
          "ename": "TypeError",
          "evalue": "ignored",
          "traceback": [
            "\u001b[0;31m---------------------------------------------------------------------------\u001b[0m",
            "\u001b[0;31mTypeError\u001b[0m                                 Traceback (most recent call last)",
            "\u001b[0;32m/usr/local/lib/python3.6/dist-packages/sklearn/preprocessing/_label.py\u001b[0m in \u001b[0;36m_encode\u001b[0;34m(values, uniques, encode, check_unknown)\u001b[0m\n\u001b[1;32m    111\u001b[0m         \u001b[0;32mtry\u001b[0m\u001b[0;34m:\u001b[0m\u001b[0;34m\u001b[0m\u001b[0;34m\u001b[0m\u001b[0m\n\u001b[0;32m--> 112\u001b[0;31m             \u001b[0mres\u001b[0m \u001b[0;34m=\u001b[0m \u001b[0m_encode_python\u001b[0m\u001b[0;34m(\u001b[0m\u001b[0mvalues\u001b[0m\u001b[0;34m,\u001b[0m \u001b[0muniques\u001b[0m\u001b[0;34m,\u001b[0m \u001b[0mencode\u001b[0m\u001b[0;34m)\u001b[0m\u001b[0;34m\u001b[0m\u001b[0;34m\u001b[0m\u001b[0m\n\u001b[0m\u001b[1;32m    113\u001b[0m         \u001b[0;32mexcept\u001b[0m \u001b[0mTypeError\u001b[0m\u001b[0;34m:\u001b[0m\u001b[0;34m\u001b[0m\u001b[0;34m\u001b[0m\u001b[0m\n",
            "\u001b[0;32m/usr/local/lib/python3.6/dist-packages/sklearn/preprocessing/_label.py\u001b[0m in \u001b[0;36m_encode_python\u001b[0;34m(values, uniques, encode)\u001b[0m\n\u001b[1;32m     59\u001b[0m     \u001b[0;32mif\u001b[0m \u001b[0muniques\u001b[0m \u001b[0;32mis\u001b[0m \u001b[0;32mNone\u001b[0m\u001b[0;34m:\u001b[0m\u001b[0;34m\u001b[0m\u001b[0;34m\u001b[0m\u001b[0m\n\u001b[0;32m---> 60\u001b[0;31m         \u001b[0muniques\u001b[0m \u001b[0;34m=\u001b[0m \u001b[0msorted\u001b[0m\u001b[0;34m(\u001b[0m\u001b[0mset\u001b[0m\u001b[0;34m(\u001b[0m\u001b[0mvalues\u001b[0m\u001b[0;34m)\u001b[0m\u001b[0;34m)\u001b[0m\u001b[0;34m\u001b[0m\u001b[0;34m\u001b[0m\u001b[0m\n\u001b[0m\u001b[1;32m     61\u001b[0m         \u001b[0muniques\u001b[0m \u001b[0;34m=\u001b[0m \u001b[0mnp\u001b[0m\u001b[0;34m.\u001b[0m\u001b[0marray\u001b[0m\u001b[0;34m(\u001b[0m\u001b[0muniques\u001b[0m\u001b[0;34m,\u001b[0m \u001b[0mdtype\u001b[0m\u001b[0;34m=\u001b[0m\u001b[0mvalues\u001b[0m\u001b[0;34m.\u001b[0m\u001b[0mdtype\u001b[0m\u001b[0;34m)\u001b[0m\u001b[0;34m\u001b[0m\u001b[0;34m\u001b[0m\u001b[0m\n",
            "\u001b[0;31mTypeError\u001b[0m: '<' not supported between instances of 'str' and 'float'",
            "\nDuring handling of the above exception, another exception occurred:\n",
            "\u001b[0;31mTypeError\u001b[0m                                 Traceback (most recent call last)",
            "\u001b[0;32m<ipython-input-26-abfda20f040e>\u001b[0m in \u001b[0;36m<module>\u001b[0;34m()\u001b[0m\n\u001b[1;32m     32\u001b[0m \u001b[0mfull_path\u001b[0m \u001b[0;34m=\u001b[0m \u001b[0;34m'training.csv'\u001b[0m\u001b[0;34m\u001b[0m\u001b[0;34m\u001b[0m\u001b[0m\n\u001b[1;32m     33\u001b[0m \u001b[0;31m# load the dataset\u001b[0m\u001b[0;34m\u001b[0m\u001b[0;34m\u001b[0m\u001b[0;34m\u001b[0m\u001b[0m\n\u001b[0;32m---> 34\u001b[0;31m \u001b[0mX\u001b[0m\u001b[0;34m,\u001b[0m \u001b[0my\u001b[0m \u001b[0;34m=\u001b[0m \u001b[0mload_dataset\u001b[0m\u001b[0;34m(\u001b[0m\u001b[0mfull_path\u001b[0m\u001b[0;34m)\u001b[0m\u001b[0;34m\u001b[0m\u001b[0;34m\u001b[0m\u001b[0m\n\u001b[0m\u001b[1;32m     35\u001b[0m \u001b[0;31m# summarize the loaded dataset\u001b[0m\u001b[0;34m\u001b[0m\u001b[0;34m\u001b[0m\u001b[0;34m\u001b[0m\u001b[0m\n\u001b[1;32m     36\u001b[0m \u001b[0mprint\u001b[0m\u001b[0;34m(\u001b[0m\u001b[0mX\u001b[0m\u001b[0;34m.\u001b[0m\u001b[0mshape\u001b[0m\u001b[0;34m,\u001b[0m \u001b[0my\u001b[0m\u001b[0;34m.\u001b[0m\u001b[0mshape\u001b[0m\u001b[0;34m,\u001b[0m \u001b[0mCounter\u001b[0m\u001b[0;34m(\u001b[0m\u001b[0my\u001b[0m\u001b[0;34m)\u001b[0m\u001b[0;34m)\u001b[0m\u001b[0;34m\u001b[0m\u001b[0;34m\u001b[0m\u001b[0m\n",
            "\u001b[0;32m<ipython-input-26-abfda20f040e>\u001b[0m in \u001b[0;36mload_dataset\u001b[0;34m(full_path)\u001b[0m\n\u001b[1;32m     18\u001b[0m         \u001b[0mX\u001b[0m\u001b[0;34m,\u001b[0m \u001b[0my\u001b[0m \u001b[0;34m=\u001b[0m \u001b[0mdata\u001b[0m\u001b[0;34m[\u001b[0m\u001b[0;34m:\u001b[0m\u001b[0;34m,\u001b[0m \u001b[0;34m:\u001b[0m\u001b[0;34m-\u001b[0m\u001b[0;36m1\u001b[0m\u001b[0;34m]\u001b[0m\u001b[0;34m,\u001b[0m \u001b[0mdata\u001b[0m\u001b[0;34m[\u001b[0m\u001b[0;34m:\u001b[0m\u001b[0;34m,\u001b[0m \u001b[0;34m-\u001b[0m\u001b[0;36m1\u001b[0m\u001b[0;34m]\u001b[0m\u001b[0;34m\u001b[0m\u001b[0;34m\u001b[0m\u001b[0m\n\u001b[1;32m     19\u001b[0m         \u001b[0;31m# label encode the target variable to have the classes 0 and 1\u001b[0m\u001b[0;34m\u001b[0m\u001b[0;34m\u001b[0m\u001b[0;34m\u001b[0m\u001b[0m\n\u001b[0;32m---> 20\u001b[0;31m         \u001b[0my\u001b[0m \u001b[0;34m=\u001b[0m \u001b[0mLabelEncoder\u001b[0m\u001b[0;34m(\u001b[0m\u001b[0;34m)\u001b[0m\u001b[0;34m.\u001b[0m\u001b[0mfit_transform\u001b[0m\u001b[0;34m(\u001b[0m\u001b[0my\u001b[0m\u001b[0;34m)\u001b[0m\u001b[0;34m\u001b[0m\u001b[0;34m\u001b[0m\u001b[0m\n\u001b[0m\u001b[1;32m     21\u001b[0m         \u001b[0;32mreturn\u001b[0m \u001b[0mX\u001b[0m\u001b[0;34m,\u001b[0m \u001b[0my\u001b[0m\u001b[0;34m\u001b[0m\u001b[0;34m\u001b[0m\u001b[0m\n\u001b[1;32m     22\u001b[0m \u001b[0;34m\u001b[0m\u001b[0m\n",
            "\u001b[0;32m/usr/local/lib/python3.6/dist-packages/sklearn/preprocessing/_label.py\u001b[0m in \u001b[0;36mfit_transform\u001b[0;34m(self, y)\u001b[0m\n\u001b[1;32m    250\u001b[0m         \"\"\"\n\u001b[1;32m    251\u001b[0m         \u001b[0my\u001b[0m \u001b[0;34m=\u001b[0m \u001b[0mcolumn_or_1d\u001b[0m\u001b[0;34m(\u001b[0m\u001b[0my\u001b[0m\u001b[0;34m,\u001b[0m \u001b[0mwarn\u001b[0m\u001b[0;34m=\u001b[0m\u001b[0;32mTrue\u001b[0m\u001b[0;34m)\u001b[0m\u001b[0;34m\u001b[0m\u001b[0;34m\u001b[0m\u001b[0m\n\u001b[0;32m--> 252\u001b[0;31m         \u001b[0mself\u001b[0m\u001b[0;34m.\u001b[0m\u001b[0mclasses_\u001b[0m\u001b[0;34m,\u001b[0m \u001b[0my\u001b[0m \u001b[0;34m=\u001b[0m \u001b[0m_encode\u001b[0m\u001b[0;34m(\u001b[0m\u001b[0my\u001b[0m\u001b[0;34m,\u001b[0m \u001b[0mencode\u001b[0m\u001b[0;34m=\u001b[0m\u001b[0;32mTrue\u001b[0m\u001b[0;34m)\u001b[0m\u001b[0;34m\u001b[0m\u001b[0;34m\u001b[0m\u001b[0m\n\u001b[0m\u001b[1;32m    253\u001b[0m         \u001b[0;32mreturn\u001b[0m \u001b[0my\u001b[0m\u001b[0;34m\u001b[0m\u001b[0;34m\u001b[0m\u001b[0m\n\u001b[1;32m    254\u001b[0m \u001b[0;34m\u001b[0m\u001b[0m\n",
            "\u001b[0;32m/usr/local/lib/python3.6/dist-packages/sklearn/preprocessing/_label.py\u001b[0m in \u001b[0;36m_encode\u001b[0;34m(values, uniques, encode, check_unknown)\u001b[0m\n\u001b[1;32m    112\u001b[0m             \u001b[0mres\u001b[0m \u001b[0;34m=\u001b[0m \u001b[0m_encode_python\u001b[0m\u001b[0;34m(\u001b[0m\u001b[0mvalues\u001b[0m\u001b[0;34m,\u001b[0m \u001b[0muniques\u001b[0m\u001b[0;34m,\u001b[0m \u001b[0mencode\u001b[0m\u001b[0;34m)\u001b[0m\u001b[0;34m\u001b[0m\u001b[0;34m\u001b[0m\u001b[0m\n\u001b[1;32m    113\u001b[0m         \u001b[0;32mexcept\u001b[0m \u001b[0mTypeError\u001b[0m\u001b[0;34m:\u001b[0m\u001b[0;34m\u001b[0m\u001b[0;34m\u001b[0m\u001b[0m\n\u001b[0;32m--> 114\u001b[0;31m             \u001b[0;32mraise\u001b[0m \u001b[0mTypeError\u001b[0m\u001b[0;34m(\u001b[0m\u001b[0;34m\"argument must be a string or number\"\u001b[0m\u001b[0;34m)\u001b[0m\u001b[0;34m\u001b[0m\u001b[0;34m\u001b[0m\u001b[0m\n\u001b[0m\u001b[1;32m    115\u001b[0m         \u001b[0;32mreturn\u001b[0m \u001b[0mres\u001b[0m\u001b[0;34m\u001b[0m\u001b[0;34m\u001b[0m\u001b[0m\n\u001b[1;32m    116\u001b[0m     \u001b[0;32melse\u001b[0m\u001b[0;34m:\u001b[0m\u001b[0;34m\u001b[0m\u001b[0;34m\u001b[0m\u001b[0m\n",
            "\u001b[0;31mTypeError\u001b[0m: argument must be a string or number"
          ]
        }
      ]
    }
  ]
}